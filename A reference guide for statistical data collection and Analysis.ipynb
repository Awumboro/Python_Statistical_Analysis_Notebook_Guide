{
 "cells": [
  {
   "cell_type": "markdown",
   "id": "88feb785",
   "metadata": {},
   "source": [
    "# A reference guide for statistical data collection and Analysis"
   ]
  },
  {
   "cell_type": "code",
   "execution_count": 1,
   "id": "94062f20",
   "metadata": {},
   "outputs": [],
   "source": [
    "import pandas as pd\n",
    "import numpy as np\n",
    "# A comprehensive Jupyter Notebook as a reference guide for survey preparation, \n",
    "# sample size determination, power analysis, statistical tests, and related concepts is a great idea. \n",
    "data = {\n",
    "  \"Duration\":{\n",
    "    \"0\":60,\n",
    "    \"1\":60,\n",
    "    \"2\":60,\n",
    "    \"3\":45,\n",
    "    \"4\":45,\n",
    "    \"5\":60\n",
    "  },\n",
    "  \"Pulse\":{\n",
    "    \"0\":110,\n",
    "    \"1\":117,\n",
    "    \"2\":103,\n",
    "    \"3\":109,\n",
    "    \"4\":117,\n",
    "    \"5\":102\n",
    "  },\n",
    "  \"Maxpulse\":{\n",
    "    \"0\":130,\n",
    "    \"1\":145,\n",
    "    \"2\":135,\n",
    "    \"3\":175,\n",
    "    \"4\":148,\n",
    "    \"5\":127\n",
    "  },\n",
    "  \"Calories\":{\n",
    "    \"0\":409,\n",
    "    \"1\":479,\n",
    "    \"2\":340,\n",
    "    \"3\":282,\n",
    "    \"4\":406,\n",
    "    \"5\":300\n",
    "  }\n",
    "}\n",
    "\n",
    "df = pd.DataFrame(data)"
   ]
  },
  {
   "cell_type": "markdown",
   "id": "c3629210",
   "metadata": {},
   "source": [
    "## Table of Contents"
   ]
  },
  {
   "cell_type": "code",
   "execution_count": 2,
   "id": "8936c8d8",
   "metadata": {},
   "outputs": [],
   "source": [
    "\n",
    "# Introduction to Survey Research and Statistical Analysis\n",
    "\n",
    "# Overview of Survey Research\n",
    "    # Importance of Sample Size and Power Analysis\n",
    "    # Types of Statistical Tests\n",
    "    # Sample Size Determination\n",
    "\n",
    "# Basics of Sample Size\n",
    "    # Calculating Sample Size for Different Scenarios\n",
    "    # Sample Size for Infinite and Finite Populations\n",
    "    # Power Analysis\n",
    "\n",
    "# Understanding Statistical Power\n",
    "    # Power Analysis for Different Statistical Tests\n",
    "    # Example Power Calculations\n",
    "    # Finite Population Correction (FPC)\n",
    "\n",
    "# Importance of FPC\n",
    "    # Applying FPC to Adjust Sample Size\n",
    "    # Example Calculations with FPC\n",
    "    # Statistical Tests and Their Application\n",
    "\n",
    "# Overview of Common Statistical Tests\n",
    "    # Hypothesis Testing: Null and Alternative Hypotheses\n",
    "    # Chi-Square Test\n",
    "    # T-Tests (One-sample, Independent, and Paired)\n",
    "    # ANOVA (Analysis of Variance)\n",
    "    # Non-Parametric Tests\n",
    "    # Directionalities in Statistical Tests\n",
    "\n",
    "# Understanding Test Directions: One-tailed vs. Two-tailed Tests\n",
    "    # Examples and Scenarios for Choosing the Test Direction\n",
    "    # Interpreting Results\n",
    "\n",
    "# Understanding p-values and Statistical Significance\n",
    "    # Practical vs. Statistical Significance\n",
    "    # Reporting and Communicating Results\n",
    "    # Practical Guide to Conducting Surveys\n",
    "\n",
    "# Designing Effective Surveys\n",
    "    # Common Pitfalls and How to Avoid Them\n",
    "    # Ensuring Validity and Reliability\n",
    "    # Python Code Examples\n",
    "\n",
    "# Sample Size Calculation\n",
    "    # Power Analysis\n",
    "    # Statistical Tests (Chi-Square, T-Tests, ANOVA, etc.)\n",
    "    # Adjusting Sample Size with FPC\n",
    "    # Additional Resources\n",
    "\n",
    "# Recommended Reading and References\n",
    "    # Useful Python Libraries for Statistical Analysis\n"
   ]
  },
  {
   "cell_type": "code",
   "execution_count": null,
   "id": "14ab466a",
   "metadata": {},
   "outputs": [],
   "source": []
  },
  {
   "cell_type": "markdown",
   "id": "b1e97595",
   "metadata": {},
   "source": [
    "## Section 1: Introduction to Survey Research and Statistical Analysis"
   ]
  },
  {
   "cell_type": "code",
   "execution_count": 3,
   "id": "724c54c8",
   "metadata": {},
   "outputs": [],
   "source": [
    "# Overview of Survey Research\n",
    "\n",
    "# Survey research involves collecting data from a predefined group to gather insights, measure opinions, or identify patterns. Key considerations include:\n",
    "\n",
    "# Purpose of the Survey: Define what you aim to achieve.\n",
    "# Target Population: Identify the group from which you’ll collect data.\n",
    "# Sample Size: Determine how many participants you need to make your findings statistically significant.\n",
    "# Importance of Sample Size and Power Analysis\n",
    "\n",
    "# Sample Size: Ensures the collected data is representative of the population.\n",
    "# Power Analysis: Determines the likelihood that your study will detect an effect if there is one.\n",
    "# Types of Statistical Tests\n",
    "\n",
    "# Chi-Square Test: Used for categorical data to assess how likely it is that an observed distribution is due to chance.\n",
    "# T-Tests: Compare means between two groups.\n",
    "# ANOVA: Compares means among three or more groups.\n",
    "# Non-Parametric Tests: Used when data doesn’t fit normal distribution assumptions.\n",
    "# Section 2: Sample Size Determination\n",
    "# Basics of Sample Size\n",
    "\n",
    "# Sample size refers to the number of observations or participants needed to ensure reliable and valid results. Factors influencing sample size include:\n",
    "\n",
    "# Desired Confidence Level: Commonly 95% or 99%.\n",
    "# Margin of Error: Acceptable range of error in results.\n",
    "# Population Variability: How diverse or varied the population is.\n"
   ]
  },
  {
   "cell_type": "markdown",
   "id": "6f593c2b",
   "metadata": {},
   "source": [
    "### Calculating Sample Size for Different Scenarios"
   ]
  },
  {
   "cell_type": "markdown",
   "id": "0c6cc7ce",
   "metadata": {},
   "source": [
    "#### For Proportions:"
   ]
  },
  {
   "cell_type": "code",
   "execution_count": 4,
   "id": "269611c0",
   "metadata": {},
   "outputs": [],
   "source": [
    "# from statsmodels.stats.proportion import proportion_effectsize, samplesize_proportions_2indep\n",
    "# # statsmodels.stats.proportion.test_proportions_2indep\n",
    "# # Example: Comparing two proportions (50% and 60%)\n",
    "# effect_size = proportion_effectsize(0.5, 0.6)  # Cohen's h\n",
    "# alpha = 0.05\n",
    "# power = 0.8\n",
    "\n",
    "# sample_size = samplesize_proportions_2indep(\n",
    "#     effect_size=effect_size, alpha=alpha, power=power, ratio=1\n",
    "# )\n",
    "# print(f\"Sample size needed per group: {sample_size:.2f}\")\n"
   ]
  },
  {
   "cell_type": "markdown",
   "id": "6916ef54",
   "metadata": {},
   "source": [
    "#### For Means:"
   ]
  },
  {
   "cell_type": "code",
   "execution_count": 5,
   "id": "fa8db7a6",
   "metadata": {},
   "outputs": [
    {
     "name": "stdout",
     "output_type": "stream",
     "text": [
      "Sample size needed per group: 393.41\n"
     ]
    }
   ],
   "source": [
    "from statsmodels.stats.power import tt_ind_solve_power\n",
    "\n",
    "# Example: Comparing means with small effect size (Cohen's d = 0.2)\n",
    "effect_size = 0.2\n",
    "alpha = 0.05\n",
    "power = 0.8\n",
    "\n",
    "sample_size = tt_ind_solve_power(effect_size, alpha=alpha, power=power, ratio=1)\n",
    "print(f\"Sample size needed per group: {sample_size:.2f}\")\n"
   ]
  },
  {
   "cell_type": "markdown",
   "id": "f9741c1a",
   "metadata": {},
   "source": [
    "### Sample Size for Infinite and Finite Populations"
   ]
  },
  {
   "cell_type": "markdown",
   "id": "b9edc5db",
   "metadata": {},
   "source": [
    "#### Infinite Population:"
   ]
  },
  {
   "cell_type": "code",
   "execution_count": 6,
   "id": "a33cfd95",
   "metadata": {},
   "outputs": [
    {
     "name": "stdout",
     "output_type": "stream",
     "text": [
      "Sample size needed per group (infinite population): 174.42\n"
     ]
    }
   ],
   "source": [
    "from statsmodels.stats.power import zt_ind_solve_power\n",
    "\n",
    "# Example: Two independent sample z-test for proportions\n",
    "effect_size = 0.3  # Cohen's h for small to medium effect\n",
    "alpha = 0.05\n",
    "power = 0.8\n",
    "\n",
    "sample_size = zt_ind_solve_power(effect_size, alpha=alpha, power=power)\n",
    "print(f\"Sample size needed per group (infinite population): {sample_size:.2f}\")\n"
   ]
  },
  {
   "cell_type": "markdown",
   "id": "eaba72b4",
   "metadata": {},
   "source": [
    "#### Finite Population: Adjust the infinite population sample size using the FPC."
   ]
  },
  {
   "cell_type": "code",
   "execution_count": 7,
   "id": "a884ec30",
   "metadata": {},
   "outputs": [
    {
     "name": "stdout",
     "output_type": "stream",
     "text": [
      "Adjusted sample size for finite population of 3000: 96.81\n"
     ]
    }
   ],
   "source": [
    "# Finite Population Size\n",
    "N = 3000\n",
    "\n",
    "# Initial sample size from infinite population calculation\n",
    "n0 = 100  # Example value\n",
    "\n",
    "# Apply finite population correction (FPC)\n",
    "def adjusted_sample_size(n0, N):\n",
    "    return n0 / (1 + ((n0 - 1) / N))\n",
    "\n",
    "n_prime = adjusted_sample_size(n0, N)\n",
    "print(f\"Adjusted sample size for finite population of {N}: {n_prime:.2f}\")\n"
   ]
  },
  {
   "cell_type": "markdown",
   "id": "aeffd146",
   "metadata": {},
   "source": [
    "## Section 3: Power Analysis"
   ]
  },
  {
   "cell_type": "code",
   "execution_count": 8,
   "id": "55c3c889",
   "metadata": {},
   "outputs": [],
   "source": [
    "# Understanding Statistical Power\n",
    "\n",
    "# Statistical power is the probability of detecting a true effect when it exists. It is influenced by:\n",
    "\n",
    "# Sample Size: Larger samples increase power.\n",
    "# Effect Size: Larger effects are easier to detect.\n",
    "# Significance Level (α): Higher significance levels reduce power.\n",
    "# Variability in Data: Less variability increases power.\n",
    "# Power Analysis for Different Statistical Tests"
   ]
  },
  {
   "cell_type": "markdown",
   "id": "b3d052a9",
   "metadata": {},
   "source": [
    "### Power Analysis for Different Statistical Tests "
   ]
  },
  {
   "cell_type": "markdown",
   "id": "21b6151e",
   "metadata": {},
   "source": [
    "#### Chi-Square Test:"
   ]
  },
  {
   "cell_type": "code",
   "execution_count": 9,
   "id": "65cdc99a",
   "metadata": {},
   "outputs": [
    {
     "name": "stdout",
     "output_type": "stream",
     "text": [
      "Sample size needed for chi-square test: 87.21\n"
     ]
    }
   ],
   "source": [
    "from statsmodels.stats.power import GofChisquarePower\n",
    "\n",
    "# Parameters\n",
    "effect_size = 0.3  # Cohen's w\n",
    "alpha = 0.05\n",
    "power = 0.8\n",
    "\n",
    "power_analysis = GofChisquarePower()\n",
    "sample_size = power_analysis.solve_power(effect_size, power=power, alpha=alpha)\n",
    "print(f\"Sample size needed for chi-square test: {sample_size:.2f}\")\n"
   ]
  },
  {
   "cell_type": "markdown",
   "id": "5dcc3231",
   "metadata": {},
   "source": [
    "#### T-Tests:"
   ]
  },
  {
   "cell_type": "code",
   "execution_count": 10,
   "id": "2b9126fb",
   "metadata": {},
   "outputs": [
    {
     "name": "stdout",
     "output_type": "stream",
     "text": [
      "Sample size needed for t-test: 63.77\n"
     ]
    }
   ],
   "source": [
    "from statsmodels.stats.power import TTestIndPower\n",
    "\n",
    "# Parameters\n",
    "effect_size = 0.5  # Medium effect size (Cohen's d)\n",
    "alpha = 0.05\n",
    "power = 0.8\n",
    "\n",
    "power_analysis = TTestIndPower()\n",
    "sample_size = power_analysis.solve_power(effect_size, power=power, alpha=alpha)\n",
    "print(f\"Sample size needed for t-test: {sample_size:.2f}\")\n"
   ]
  },
  {
   "cell_type": "markdown",
   "id": "34bbcc1f",
   "metadata": {},
   "source": [
    "#### ANOVA:"
   ]
  },
  {
   "cell_type": "code",
   "execution_count": 11,
   "id": "b395159e",
   "metadata": {},
   "outputs": [
    {
     "name": "stdout",
     "output_type": "stream",
     "text": [
      "Sample size needed per group for ANOVA: 157.19\n"
     ]
    }
   ],
   "source": [
    "from statsmodels.stats.power import FTestAnovaPower\n",
    "\n",
    "# Parameters\n",
    "effect_size = 0.25  # Small to medium effect size\n",
    "alpha = 0.05\n",
    "power = 0.8\n",
    "groups = 3  # Number of groups\n",
    "\n",
    "power_analysis = FTestAnovaPower()\n",
    "sample_size = power_analysis.solve_power(effect_size, power=power, alpha=alpha, k_groups=groups)\n",
    "print(f\"Sample size needed per group for ANOVA: {sample_size:.2f}\")\n"
   ]
  },
  {
   "cell_type": "markdown",
   "id": "55978c55",
   "metadata": {},
   "source": [
    "## Section 4: Finite Population Correction (FPC)"
   ]
  },
  {
   "cell_type": "code",
   "execution_count": 12,
   "id": "740ed52a",
   "metadata": {},
   "outputs": [],
   "source": [
    "# Importance of FPC\n",
    "\n",
    "# FPC adjusts the sample size for the finite population. \n",
    "# This is important when the population is small and the initial sample size is a significant fraction of the total population."
   ]
  },
  {
   "cell_type": "markdown",
   "id": "8f9a267a",
   "metadata": {},
   "source": [
    "#### Applying FPC to Adjust Sample Size"
   ]
  },
  {
   "cell_type": "code",
   "execution_count": 13,
   "id": "ee045ca1",
   "metadata": {},
   "outputs": [
    {
     "name": "stdout",
     "output_type": "stream",
     "text": [
      "Adjusted sample size for finite population: 115.42\n"
     ]
    }
   ],
   "source": [
    "# Use FPC to refine the sample size from the power analysis.\n",
    "\n",
    "# Example with initial sample size and finite population size\n",
    "initial_sample_size = 120  # From previous power analysis\n",
    "population_size = 3000\n",
    "\n",
    "def adjusted_sample_size(n0, N):\n",
    "    return n0 / (1 + ((n0 - 1) / N))\n",
    "\n",
    "adjusted_size = adjusted_sample_size(initial_sample_size, population_size)\n",
    "print(f\"Adjusted sample size for finite population: {adjusted_size:.2f}\")\n"
   ]
  },
  {
   "cell_type": "markdown",
   "id": "cd2db55b",
   "metadata": {},
   "source": [
    "## Section 5: Statistical Tests and Their Application"
   ]
  },
  {
   "cell_type": "code",
   "execution_count": 14,
   "id": "48aa71a4",
   "metadata": {},
   "outputs": [],
   "source": [
    "# Overview of Common Statistical Tests\n",
    "\n",
    "# Explain different tests, when to use them, and their assumptions.\n",
    "\n",
    "# Chi-Square Test: For categorical data.\n",
    "# T-Tests: For comparing means.\n",
    "# ANOVA: For comparing means among multiple groups.\n",
    "# Non-Parametric Tests: When data doesn’t meet parametric test assumptions."
   ]
  },
  {
   "cell_type": "code",
   "execution_count": 15,
   "id": "c1c912f4",
   "metadata": {},
   "outputs": [],
   "source": [
    "# Define how to formulate hypotheses for different tests.\n",
    "\n",
    "\n",
    "# Example hypothesis for Chi-Square Test\n",
    "# H0: There is no difference in willingness to collaborate between groups.\n",
    "# H1: There is a difference in willingness to collaborate between groups."
   ]
  },
  {
   "cell_type": "markdown",
   "id": "b128c6f0",
   "metadata": {},
   "source": [
    "#### Chi-Square Test"
   ]
  },
  {
   "cell_type": "code",
   "execution_count": 16,
   "id": "6a5537f4",
   "metadata": {},
   "outputs": [
    {
     "name": "stdout",
     "output_type": "stream",
     "text": [
      "Chi-square statistic: 0.4712298410763503, p-value: 0.4924219276038485\n"
     ]
    }
   ],
   "source": [
    "from scipy.stats import chi2_contingency\n",
    "import numpy as np\n",
    "\n",
    "# Example contingency table\n",
    "contingency_table = np.array([[82, 35], [27, 16]])\n",
    "\n",
    "# Perform Chi-Square Test\n",
    "chi2_stat, p_value, _, _ = chi2_contingency(contingency_table)\n",
    "print(f\"Chi-square statistic: {chi2_stat}, p-value: {p_value}\")\n"
   ]
  },
  {
   "cell_type": "markdown",
   "id": "83aea640",
   "metadata": {},
   "source": [
    "#### T-Tests (One-sample, Independent, and Paired)"
   ]
  },
  {
   "cell_type": "code",
   "execution_count": 17,
   "id": "1785829a",
   "metadata": {},
   "outputs": [
    {
     "name": "stdout",
     "output_type": "stream",
     "text": [
      "Independent t-test: t-statistic = -2.1356194508957467, p-value = 0.03694423309900591\n"
     ]
    }
   ],
   "source": [
    "from scipy.stats import ttest_ind, ttest_rel\n",
    "\n",
    "# Example data\n",
    "group1 = np.random.normal(50, 10, size=30)\n",
    "group2 = np.random.normal(55, 10, size=30)\n",
    "\n",
    "# Independent t-test\n",
    "t_stat, p_value = ttest_ind(group1, group2)\n",
    "print(f\"Independent t-test: t-statistic = {t_stat}, p-value = {p_value}\")\n"
   ]
  },
  {
   "cell_type": "markdown",
   "id": "c0fc2dce",
   "metadata": {},
   "source": [
    "#### ANOVA (Analysis of Variance)"
   ]
  },
  {
   "cell_type": "code",
   "execution_count": 18,
   "id": "16123a96",
   "metadata": {},
   "outputs": [
    {
     "name": "stdout",
     "output_type": "stream",
     "text": [
      "ANOVA: F-statistic = 14.883539982840723, p-value = 2.758349085704979e-06\n"
     ]
    }
   ],
   "source": [
    "from scipy.stats import f_oneway\n",
    "\n",
    "# Example data\n",
    "group1 = np.random.normal(50, 10, size=30)\n",
    "group2 = np.random.normal(55, 10, size=30)\n",
    "group3 = np.random.normal(60, 10, size=30)\n",
    "\n",
    "# ANOVA\n",
    "f_stat, p_value = f_oneway(group1, group2, group3)\n",
    "print(f\"ANOVA: F-statistic = {f_stat}, p-value = {p_value}\")\n"
   ]
  },
  {
   "cell_type": "markdown",
   "id": "75795d28",
   "metadata": {},
   "source": [
    "### Non-Parametric Tests"
   ]
  },
  {
   "cell_type": "code",
   "execution_count": 19,
   "id": "b917ced3",
   "metadata": {},
   "outputs": [],
   "source": [
    "# Provide examples for tests like the Mann-Whitney U test, \n",
    "# Wilcoxon signed-rank test, and Kruskal-Wallis test."
   ]
  },
  {
   "cell_type": "markdown",
   "id": "391217ca",
   "metadata": {},
   "source": [
    "## Section 6: Directionalities in Statistical Tests"
   ]
  },
  {
   "cell_type": "markdown",
   "id": "b7e5d8f1",
   "metadata": {},
   "source": [
    "### Understanding Test Directions: One-tailed vs. Two-tailed Tests"
   ]
  },
  {
   "cell_type": "code",
   "execution_count": 20,
   "id": "fdecd896",
   "metadata": {},
   "outputs": [],
   "source": [
    "# When conducting statistical tests, it's crucial to decide whether to use a one-tailed or two-tailed test. This decision is based on the nature of your hypothesis.\n",
    "\n",
    "# One-tailed Test: Used when you have a directional hypothesis (e.g., Group A is greater than Group B).\n",
    "# Two-tailed Test: Used when you are testing for any difference without a specified direction (e.g., Group A is different from Group B).\n",
    "\n",
    "\n",
    "\n",
    "# Examples and Scenarios for Choosing the Test Direction\n",
    "# Scenario 1: Testing if a new drug is more effective than an existing drug.\n",
    "\n",
    "# Hypothesis: The new drug is more effective (one-tailed test).\n",
    "# Decision: Use a one-tailed test if the expectation is strictly directional.\n",
    "# Scenario 2: Investigating if there is any difference in test scores between two teaching methods.\n",
    "\n",
    "# Hypothesis: There is a difference in test scores (two-tailed test).\n",
    "# Decision: Use a two-tailed test since any difference is of interest, not just a specific direction."
   ]
  },
  {
   "cell_type": "code",
   "execution_count": 21,
   "id": "ad4b82f4",
   "metadata": {},
   "outputs": [
    {
     "name": "stdout",
     "output_type": "stream",
     "text": [
      "Two-tailed t-test: t-statistic = -2.6786530715335637, p-value = 0.009601493286261961\n",
      "One-tailed t-test: t-statistic = -2.6786530715335637, p-value = 0.004800746643130981\n"
     ]
    }
   ],
   "source": [
    "import numpy as np\n",
    "from scipy.stats import ttest_ind\n",
    "\n",
    "# Example data: Two groups with normally distributed values\n",
    "group1 = np.random.normal(50, 10, size=30)\n",
    "group2 = np.random.normal(55, 10, size=30)\n",
    "\n",
    "# Two-tailed t-test\n",
    "t_stat, p_value_two_tailed = ttest_ind(group1, group2)\n",
    "print(f\"Two-tailed t-test: t-statistic = {t_stat}, p-value = {p_value_two_tailed}\")\n",
    "\n",
    "# One-tailed t-test\n",
    "# Since we're interested in testing if group1 mean is less than group2 mean\n",
    "# We divide the two-tailed p-value by 2 to get the one-tailed p-value\n",
    "p_value_one_tailed = p_value_two_tailed / 2 if t_stat < 0 else (1 - p_value_two_tailed / 2)\n",
    "print(f\"One-tailed t-test: t-statistic = {t_stat}, p-value = {p_value_one_tailed}\")\n",
    "\n"
   ]
  },
  {
   "cell_type": "code",
   "execution_count": null,
   "id": "da00c2e7",
   "metadata": {},
   "outputs": [],
   "source": []
  },
  {
   "cell_type": "code",
   "execution_count": null,
   "id": "9b9962b7",
   "metadata": {},
   "outputs": [],
   "source": []
  },
  {
   "cell_type": "code",
   "execution_count": null,
   "id": "87348155",
   "metadata": {},
   "outputs": [],
   "source": []
  },
  {
   "cell_type": "markdown",
   "id": "53fd8169",
   "metadata": {},
   "source": [
    "## Section 7: Interpreting Results"
   ]
  },
  {
   "cell_type": "markdown",
   "id": "e0d1a49b",
   "metadata": {},
   "source": [
    "### Understanding p-values and Statistical Significance"
   ]
  },
  {
   "cell_type": "code",
   "execution_count": 22,
   "id": "9b638072",
   "metadata": {},
   "outputs": [],
   "source": [
    "# Explain how to interpret p-values and the concept of statistical significance.\n",
    "\n",
    "# p-value: The probability of observing your data, or something more extreme, under the assumption that the null hypothesis is true.\n",
    "\n",
    "# Statistical Significance: Typically, if the p-value is less than a predefined threshold (commonly 0.05), \n",
    "#     we reject the null hypothesis. This indicates that the observed effect is statistically significant.\n",
    "\n",
    "# Statistical Significance: Typically, p < 0.05 indicates significant results.\n",
    "# Practical vs. Statistical Significance\n",
    "\n",
    "# Distinguish between statistical significance and practical (or clinical) significance.\n",
    "\n",
    "# Reporting and Communicating Results\n",
    "\n",
    "# Guide on how to report statistical results clearly and effectively."
   ]
  },
  {
   "cell_type": "markdown",
   "id": "5e08a8e3",
   "metadata": {},
   "source": [
    "### Intepretating p-values and Statistical Significance"
   ]
  },
  {
   "cell_type": "code",
   "execution_count": 23,
   "id": "fbcd68aa",
   "metadata": {},
   "outputs": [
    {
     "name": "stdout",
     "output_type": "stream",
     "text": [
      "p-value = 0.03: Statistically significant (reject H0)\n"
     ]
    }
   ],
   "source": [
    "# Assuming we have the results of a statistical test\n",
    "p_value = 0.03  # Example p-value\n",
    "\n",
    "# Define significance level\n",
    "alpha = 0.05\n",
    "\n",
    "# Interpretation\n",
    "if p_value < alpha:\n",
    "    print(f\"p-value = {p_value}: Statistically significant (reject H0)\")\n",
    "else:\n",
    "    print(f\"p-value = {p_value}: Not statistically significant (fail to reject H0)\")\n"
   ]
  },
  {
   "cell_type": "markdown",
   "id": "cbec78ad",
   "metadata": {},
   "source": [
    "### Practical vs. Statistical Significance"
   ]
  },
  {
   "cell_type": "code",
   "execution_count": 24,
   "id": "adc44cfe",
   "metadata": {},
   "outputs": [],
   "source": [
    "# Statistical Significance: \n",
    "#     A result is statistically significant if it is unlikely to have occurred by chance, given the null hypothesis.\n",
    "    \n",
    "# Practical Significance: \n",
    "#     Refers to the real-world relevance or importance of the result. \n",
    "#     A statistically significant result may not always be practically significant."
   ]
  },
  {
   "cell_type": "markdown",
   "id": "92618534",
   "metadata": {},
   "source": [
    "### Reporting and Communicating Results"
   ]
  },
  {
   "cell_type": "code",
   "execution_count": 25,
   "id": "cd4445dc",
   "metadata": {},
   "outputs": [],
   "source": [
    "# When reporting statistical results, include the following:\n",
    "\n",
    "# Test Used: Specify the statistical test performed.\n",
    "# Test Statistic: Report the value of the test statistic.\n",
    "# p-value: Include the p-value and interpret it.\n",
    "# Effect Size: Report the effect size to understand the magnitude of the difference or relationship.\n",
    "# Context: Explain the practical implications of the results.\n",
    "# Example Report:\n",
    "\n",
    "# \"In an independent t-test comparing the means of Group A and Group B, \n",
    "# the t-statistic was 2.35 with a p-value of 0.02. Since the p-value is less than 0.05, \n",
    "# we reject the null hypothesis and conclude that there is a statistically significant difference between the two groups. \n",
    "# The effect size was medium (Cohen's d = 0.6), indicating a meaningful difference in the context of our study.\"\n",
    "\n"
   ]
  },
  {
   "cell_type": "markdown",
   "id": "6143e5fd",
   "metadata": {},
   "source": [
    "## Section 8: Practical Guide to Conducting Surveys"
   ]
  },
  {
   "cell_type": "markdown",
   "id": "c73131d8",
   "metadata": {},
   "source": [
    "#### Designing Effective Surveys"
   ]
  },
  {
   "cell_type": "code",
   "execution_count": 26,
   "id": "2ed884d3",
   "metadata": {},
   "outputs": [],
   "source": [
    "# Surveys are tools for collecting data from respondents. \n",
    "# Effective survey design is crucial for obtaining reliable and valid data.\n"
   ]
  },
  {
   "cell_type": "markdown",
   "id": "6a77530b",
   "metadata": {},
   "source": [
    "#### Key Tips for Survey Design:"
   ]
  },
  {
   "cell_type": "code",
   "execution_count": 27,
   "id": "99073071",
   "metadata": {},
   "outputs": [],
   "source": [
    "# Define Clear Objectives: Know what information you need and why.\n",
    "# Choose the Right Question Types:\n",
    "# Open-ended questions: Allow for detailed responses.\n",
    "# Closed-ended questions: Provide specific response options (e.g., multiple choice, Likert scale).\n",
    "# Avoid Leading Questions: Ensure questions are neutral and do not bias the respondent.\n",
    "# Pilot Test the Survey: Test the survey with a small group to identify any issues."
   ]
  },
  {
   "cell_type": "markdown",
   "id": "6ebae427",
   "metadata": {},
   "source": [
    "#### Example Questions:"
   ]
  },
  {
   "cell_type": "code",
   "execution_count": 28,
   "id": "ecac0d97",
   "metadata": {},
   "outputs": [],
   "source": [
    "\n",
    "# **Question 1**: How satisfied are you with our service? (Likert Scale)\n",
    "# - Very Dissatisfied\n",
    "# - Dissatisfied\n",
    "# - Neutral\n",
    "# - Satisfied\n",
    "# - Very Satisfied\n",
    "\n",
    "# **Question 2**: What improvements would you suggest for our service? (Open-ended)\n",
    "# Common Pitfalls and How to Avoid Them\n",
    "# Sampling Bias: Ensure your sample is representative of the population.\n",
    "# Response Bias: Questions should be worded to avoid influencing responses.\n",
    "# Survey Length: Keep surveys concise to maintain respondent engagement.\n",
    "\n"
   ]
  },
  {
   "cell_type": "markdown",
   "id": "0e5ec214",
   "metadata": {},
   "source": [
    "### Ensuring Validity and Reliability"
   ]
  },
  {
   "cell_type": "code",
   "execution_count": 29,
   "id": "fe3e021b",
   "metadata": {},
   "outputs": [],
   "source": [
    "# Ensuring Validity and Reliability\n",
    "# Validity: Ensure your survey measures what it is intended to measure.\n",
    "# Reliability: Ensure your survey produces consistent results over repeated administrations.\n",
    "# Reliability: Reliability, assessed through Cronbach's Alpha, evaluates the internal consistency of survey items,\n",
    "# ensuring that they reliably measure the intended constructs. Both surveys conducted with daladala operators and \n",
    "# commuters demonstrated Cronbach's Alpha values greater than 0.7, which signifies acceptable reliability. \n",
    "# This means the responses are stable and reproducible, reflecting consistent attitudes and experiences \n",
    "# rather than random variations. Reliable data is crucial for the integrity of the study, as it ensures that the insights \n",
    "# and trends identified are genuine and not influenced by inconsistent responses. This consistency is foundational \n",
    "# for making credible and dependable conclusions from the data.\n",
    "# Validity: Validity, particularly through Principal Component Analysis (PCA), ensures that the survey measures what it is intended to measure by capturing the core constructs effectively. Our PCA results indicated that three components could explain 95% of the variance in the responses for both groups. This implies that the survey data comprehensively covers the key aspects of the stakeholders' perspectives. For instance, these components likely encapsulate critical factors such as operational impacts, future demand, and integration potential for daladala operators, and travel time, cost, and convenience for commuters. High validity ensures that our survey questions are meaningful and accurately represent the underlying issues, providing a robust basis for the subsequent analysis.\n"
   ]
  },
  {
   "cell_type": "code",
   "execution_count": 30,
   "id": "a2ddfe6b",
   "metadata": {},
   "outputs": [
    {
     "name": "stdout",
     "output_type": "stream",
     "text": [
      "Number of components to retain 95% variance: 3\n",
      "Explained variance by each component: [0.51677906 0.42996663 0.05097807]\n"
     ]
    }
   ],
   "source": [
    "import pandas as pd\n",
    "from sklearn.preprocessing import StandardScaler\n",
    "from sklearn.decomposition import PCA\n",
    "\n",
    "# Assuming survey data is in a DataFrame df\n",
    "# Standardizing the data\n",
    "scaler = StandardScaler()\n",
    "data_standardized = scaler.fit_transform(df.select_dtypes(include=[float, int]))\n",
    "\n",
    "# PCA for data validity\n",
    "pca = PCA(n_components=0.95)  # Retain 95% of the variance\n",
    "pca_fit = pca.fit(data_standardized)\n",
    "\n",
    "explained_variance = pca.explained_variance_ratio_\n",
    "print(f\"Number of components to retain 95% variance: {pca.n_components_}\")\n",
    "print(f\"Explained variance by each component: {explained_variance}\")\n"
   ]
  },
  {
   "cell_type": "code",
   "execution_count": null,
   "id": "426c9818",
   "metadata": {},
   "outputs": [],
   "source": []
  },
  {
   "cell_type": "markdown",
   "id": "b70bfbdd",
   "metadata": {},
   "source": [
    "## Section 9: Python Code Examples"
   ]
  },
  {
   "cell_type": "markdown",
   "id": "ef9ea6dd",
   "metadata": {},
   "source": [
    "#### Sample Size Calculation"
   ]
  },
  {
   "cell_type": "code",
   "execution_count": 31,
   "id": "e1288159",
   "metadata": {},
   "outputs": [
    {
     "name": "stdout",
     "output_type": "stream",
     "text": [
      "Required sample size per group: 63.765611775409525\n"
     ]
    }
   ],
   "source": [
    "from statsmodels.stats.power import TTestIndPower\n",
    "\n",
    "# Parameters for sample size calculation\n",
    "effect_size = 0.5  # Medium effect size\n",
    "alpha = 0.05       # Significance level\n",
    "power = 0.8        # Desired power\n",
    "\n",
    "# Calculate the required sample size\n",
    "sample_size = TTestIndPower().solve_power(effect_size, alpha=alpha, power=power)\n",
    "print(f\"Required sample size per group: {sample_size}\")"
   ]
  },
  {
   "cell_type": "markdown",
   "id": "16c11ff7",
   "metadata": {},
   "source": [
    "#### Power Analysis"
   ]
  },
  {
   "cell_type": "code",
   "execution_count": 32,
   "id": "e76f22cd",
   "metadata": {},
   "outputs": [
    {
     "name": "stdout",
     "output_type": "stream",
     "text": [
      "Power of the test: 0.4778965200281735\n"
     ]
    }
   ],
   "source": [
    "\n",
    "from statsmodels.stats.power import TTestIndPower\n",
    "\n",
    "# Parameters for power analysis\n",
    "effect_size = 0.5  # Medium effect size\n",
    "alpha = 0.05       # Significance level\n",
    "n = 30             # Sample size per group\n",
    "\n",
    "# Calculate the power of the test\n",
    "power = TTestIndPower().power(effect_size, nobs1=n, alpha=alpha)\n",
    "print(f\"Power of the test: {power}\")"
   ]
  },
  {
   "cell_type": "markdown",
   "id": "f364c45b",
   "metadata": {},
   "source": [
    "#### Chi-Square Test"
   ]
  },
  {
   "cell_type": "code",
   "execution_count": 33,
   "id": "1d276e22",
   "metadata": {},
   "outputs": [
    {
     "name": "stdout",
     "output_type": "stream",
     "text": [
      "Chi-square statistic: 0.4712298410763503, p-value: 0.4924219276038485\n"
     ]
    }
   ],
   "source": [
    "from scipy.stats import chi2_contingency\n",
    "\n",
    "# Example contingency table\n",
    "contingency_table = np.array([[82, 35], [27, 16]])\n",
    "\n",
    "# Perform Chi-Square Test\n",
    "chi2_stat, p_value, _, _ = chi2_contingency(contingency_table)\n",
    "print(f\"Chi-square statistic: {chi2_stat}, p-value: {p_value}\")\n"
   ]
  },
  {
   "cell_type": "markdown",
   "id": "255177ad",
   "metadata": {},
   "source": [
    "#### Adjusting Sample Size with FPC"
   ]
  },
  {
   "cell_type": "code",
   "execution_count": 34,
   "id": "fcf4fa74",
   "metadata": {},
   "outputs": [
    {
     "name": "stdout",
     "output_type": "stream",
     "text": [
      "Adjusted sample size: 96.8054211035818\n"
     ]
    }
   ],
   "source": [
    "def adjusted_sample_size(n, N):\n",
    "    # n = initial sample size\n",
    "    # N = population size\n",
    "    return n / (1 + ((n - 1) / N))\n",
    "\n",
    "# Example\n",
    "initial_sample_size = 100\n",
    "population_size = 3000\n",
    "\n",
    "adjusted_n = adjusted_sample_size(initial_sample_size, population_size)\n",
    "print(f\"Adjusted sample size: {adjusted_n}\")\n"
   ]
  },
  {
   "cell_type": "markdown",
   "id": "426b999d",
   "metadata": {},
   "source": [
    "## Section 10: Additional Resources"
   ]
  },
  {
   "cell_type": "markdown",
   "id": "cf25ca12",
   "metadata": {},
   "source": [
    "#### Recommended Reading and References"
   ]
  },
  {
   "cell_type": "code",
   "execution_count": 35,
   "id": "f44ccf59",
   "metadata": {},
   "outputs": [],
   "source": [
    "# Books:\n",
    "# \"Survey Research Methods\" by Floyd J. Fowler\n",
    "# \"Statistical Methods for the Social Sciences\" by Alan Agresti and Barbara Finlay\n",
    "\n",
    "# Online Resources:\n",
    "# Khan Academy Statistics and Probability\n",
    "# Coursera Statistical Learning"
   ]
  },
  {
   "cell_type": "markdown",
   "id": "a39e27df",
   "metadata": {},
   "source": [
    "#### Useful Python Libraries for Statistical Analysis"
   ]
  },
  {
   "cell_type": "code",
   "execution_count": 36,
   "id": "1f74942f",
   "metadata": {},
   "outputs": [],
   "source": [
    "\n",
    "# numpy: Essential for numerical operations and array manipulations.\n",
    "\n",
    "# Numpy Documentation\n",
    "# pandas: Excellent for data manipulation and analysis.\n",
    "\n",
    "# Pandas Documentation\n",
    "# scipy: Comprehensive library for statistical tests and scientific computations.\n",
    "\n",
    "# Scipy Documentation\n",
    "# statsmodels: Great for conducting statistical modeling and hypothesis testing.\n",
    "\n",
    "# Statsmodels Documentation\n",
    "# scikit-learn: Useful for machine learning and data preprocessing.\n",
    "\n",
    "# Scikit-learn Documentation"
   ]
  },
  {
   "cell_type": "code",
   "execution_count": null,
   "id": "8675da9e",
   "metadata": {},
   "outputs": [],
   "source": []
  }
 ],
 "metadata": {
  "kernelspec": {
   "display_name": "Python 3 (ipykernel)",
   "language": "python",
   "name": "python3"
  },
  "language_info": {
   "codemirror_mode": {
    "name": "ipython",
    "version": 3
   },
   "file_extension": ".py",
   "mimetype": "text/x-python",
   "name": "python",
   "nbconvert_exporter": "python",
   "pygments_lexer": "ipython3",
   "version": "3.11.5"
  }
 },
 "nbformat": 4,
 "nbformat_minor": 5
}
